{
 "cells": [
  {
   "cell_type": "code",
   "execution_count": 4,
   "metadata": {},
   "outputs": [],
   "source": [
    "import pandas as pd \n",
    "from sklearn.model_selection import train_test_split\n",
    "from sklearn.preprocessing import StandardScaler , LabelEncoder , OneHotEncoder\n",
    "import pickle"
   ]
  },
  {
   "cell_type": "code",
   "execution_count": 5,
   "metadata": {},
   "outputs": [
    {
     "data": {
      "text/html": [
       "<div>\n",
       "<style scoped>\n",
       "    .dataframe tbody tr th:only-of-type {\n",
       "        vertical-align: middle;\n",
       "    }\n",
       "\n",
       "    .dataframe tbody tr th {\n",
       "        vertical-align: top;\n",
       "    }\n",
       "\n",
       "    .dataframe thead th {\n",
       "        text-align: right;\n",
       "    }\n",
       "</style>\n",
       "<table border=\"1\" class=\"dataframe\">\n",
       "  <thead>\n",
       "    <tr style=\"text-align: right;\">\n",
       "      <th></th>\n",
       "      <th>RowNumber</th>\n",
       "      <th>CustomerId</th>\n",
       "      <th>Surname</th>\n",
       "      <th>CreditScore</th>\n",
       "      <th>Geography</th>\n",
       "      <th>Gender</th>\n",
       "      <th>Age</th>\n",
       "      <th>Tenure</th>\n",
       "      <th>Balance</th>\n",
       "      <th>NumOfProducts</th>\n",
       "      <th>HasCrCard</th>\n",
       "      <th>IsActiveMember</th>\n",
       "      <th>EstimatedSalary</th>\n",
       "      <th>Exited</th>\n",
       "    </tr>\n",
       "  </thead>\n",
       "  <tbody>\n",
       "    <tr>\n",
       "      <th>0</th>\n",
       "      <td>1</td>\n",
       "      <td>15634602</td>\n",
       "      <td>Hargrave</td>\n",
       "      <td>619</td>\n",
       "      <td>France</td>\n",
       "      <td>Female</td>\n",
       "      <td>42</td>\n",
       "      <td>2</td>\n",
       "      <td>0.00</td>\n",
       "      <td>1</td>\n",
       "      <td>1</td>\n",
       "      <td>1</td>\n",
       "      <td>101348.88</td>\n",
       "      <td>1</td>\n",
       "    </tr>\n",
       "    <tr>\n",
       "      <th>1</th>\n",
       "      <td>2</td>\n",
       "      <td>15647311</td>\n",
       "      <td>Hill</td>\n",
       "      <td>608</td>\n",
       "      <td>Spain</td>\n",
       "      <td>Female</td>\n",
       "      <td>41</td>\n",
       "      <td>1</td>\n",
       "      <td>83807.86</td>\n",
       "      <td>1</td>\n",
       "      <td>0</td>\n",
       "      <td>1</td>\n",
       "      <td>112542.58</td>\n",
       "      <td>0</td>\n",
       "    </tr>\n",
       "    <tr>\n",
       "      <th>2</th>\n",
       "      <td>3</td>\n",
       "      <td>15619304</td>\n",
       "      <td>Onio</td>\n",
       "      <td>502</td>\n",
       "      <td>France</td>\n",
       "      <td>Female</td>\n",
       "      <td>42</td>\n",
       "      <td>8</td>\n",
       "      <td>159660.80</td>\n",
       "      <td>3</td>\n",
       "      <td>1</td>\n",
       "      <td>0</td>\n",
       "      <td>113931.57</td>\n",
       "      <td>1</td>\n",
       "    </tr>\n",
       "    <tr>\n",
       "      <th>3</th>\n",
       "      <td>4</td>\n",
       "      <td>15701354</td>\n",
       "      <td>Boni</td>\n",
       "      <td>699</td>\n",
       "      <td>France</td>\n",
       "      <td>Female</td>\n",
       "      <td>39</td>\n",
       "      <td>1</td>\n",
       "      <td>0.00</td>\n",
       "      <td>2</td>\n",
       "      <td>0</td>\n",
       "      <td>0</td>\n",
       "      <td>93826.63</td>\n",
       "      <td>0</td>\n",
       "    </tr>\n",
       "    <tr>\n",
       "      <th>4</th>\n",
       "      <td>5</td>\n",
       "      <td>15737888</td>\n",
       "      <td>Mitchell</td>\n",
       "      <td>850</td>\n",
       "      <td>Spain</td>\n",
       "      <td>Female</td>\n",
       "      <td>43</td>\n",
       "      <td>2</td>\n",
       "      <td>125510.82</td>\n",
       "      <td>1</td>\n",
       "      <td>1</td>\n",
       "      <td>1</td>\n",
       "      <td>79084.10</td>\n",
       "      <td>0</td>\n",
       "    </tr>\n",
       "  </tbody>\n",
       "</table>\n",
       "</div>"
      ],
      "text/plain": [
       "   RowNumber  CustomerId   Surname  CreditScore Geography  Gender  Age  \\\n",
       "0          1    15634602  Hargrave          619    France  Female   42   \n",
       "1          2    15647311      Hill          608     Spain  Female   41   \n",
       "2          3    15619304      Onio          502    France  Female   42   \n",
       "3          4    15701354      Boni          699    France  Female   39   \n",
       "4          5    15737888  Mitchell          850     Spain  Female   43   \n",
       "\n",
       "   Tenure    Balance  NumOfProducts  HasCrCard  IsActiveMember  \\\n",
       "0       2       0.00              1          1               1   \n",
       "1       1   83807.86              1          0               1   \n",
       "2       8  159660.80              3          1               0   \n",
       "3       1       0.00              2          0               0   \n",
       "4       2  125510.82              1          1               1   \n",
       "\n",
       "   EstimatedSalary  Exited  \n",
       "0        101348.88       1  \n",
       "1        112542.58       0  \n",
       "2        113931.57       1  \n",
       "3         93826.63       0  \n",
       "4         79084.10       0  "
      ]
     },
     "execution_count": 5,
     "metadata": {},
     "output_type": "execute_result"
    }
   ],
   "source": [
    "#the below csv states whether the employee is present in the bank or esited from the bank based on different featue here we have aroud(11 dependant and 1 independant salary feature)\n",
    "\n",
    "data = pd.read_csv('/Users/anuhyasamudrala/Documents/Anu_uncc/Deeplearning/ANNClassification/Churn_Modelling.csv')\n",
    "data.head()\n",
    "\n"
   ]
  },
  {
   "cell_type": "code",
   "execution_count": null,
   "metadata": {},
   "outputs": [],
   "source": [
    "#preprcess data \n",
    "#drop irrelavant feature\n",
    "data = data.drop(['RowNumber' , 'CustomerId' , 'Surname'] , axis = 1)  # might be not that used for training the model\n",
    "data"
   ]
  },
  {
   "cell_type": "code",
   "execution_count": null,
   "metadata": {},
   "outputs": [],
   "source": [
    "#convert category to numerical (onehotencoding)\n",
    "label_encoder_gender = LabelEncoder()\n",
    "data['Gender'] = label_encoder_gender.fit_transform(data['Gender'])\n",
    "data\n",
    "\n"
   ]
  },
  {
   "cell_type": "code",
   "execution_count": null,
   "metadata": {},
   "outputs": [],
   "source": [
    "# for geography we cant make o/1/2 cant assign directly like this we have to make that to multiple rows \n",
    "#for that we will use onehotencoding \n",
    "onehot_encoder_geo = OneHotEncoder()\n",
    "geo_encoder = onehot_encoder_geo.fit_transform(data[['Geography']])\n",
    "geo_encoder.toarray()\n",
    "\n",
    "#now we have to change the matrix to multiple coulmns using get \n",
    "onehot_encoder_geo.get_feature_names_out(['Geography'])   #column names \n"
   ]
  },
  {
   "cell_type": "code",
   "execution_count": null,
   "metadata": {},
   "outputs": [],
   "source": [
    "geo_encoded_df = pd.DataFrame(geo_encoder.toarray() , columns= onehot_encoder_geo.get_feature_names_out(['Geography']) )\n",
    "geo_encoded_df"
   ]
  },
  {
   "cell_type": "code",
   "execution_count": null,
   "metadata": {},
   "outputs": [],
   "source": [
    "#combine hot encoded geo  to our original data \n",
    "\n",
    "data = pd.concat([data.drop('Geography' , axis = 1) ,geo_encoded_df] , axis = 1)\n",
    "data"
   ]
  },
  {
   "cell_type": "code",
   "execution_count": 59,
   "metadata": {},
   "outputs": [],
   "source": [
    "#save teh above encoders in pickle file \n",
    "\n",
    "with open('label_encoder_gender.pkl' ,'wb') as file:\n",
    "    pickle.dump(label_encoder_gender , file)\n",
    "    \n",
    "with open('onehot_encoder_geo.pkl' ,'wb') as file:\n",
    "    pickle.dump(onehot_encoder_geo , file)\n",
    "    "
   ]
  },
  {
   "cell_type": "code",
   "execution_count": null,
   "metadata": {},
   "outputs": [],
   "source": [
    "##divide data into independanat and independant fetures\n",
    "data.head()  #except exited remainign are dependant (which is o/p exited)\n"
   ]
  },
  {
   "cell_type": "code",
   "execution_count": null,
   "metadata": {},
   "outputs": [],
   "source": [
    "#independet featire to fetch o/p\n",
    "X = data.drop('Exited' , axis = 1)\n",
    "y = data['Exited']\n",
    "\n",
    "#train and text split \n",
    "X_train , X_test ,y_train , y_test = train_test_split(X,y , test_size= 0.2 , random_state= 42)\n",
    "\n",
    "#scalefeature  ---normalize the data\n",
    "scaler = StandardScaler()\n",
    "X_train = scaler.fit_transform(X_train)\n",
    "X_test = scaler.transform(X_test)\n",
    "\n",
    "X_train , X_test"
   ]
  },
  {
   "cell_type": "code",
   "execution_count": 62,
   "metadata": {},
   "outputs": [],
   "source": [
    "with open('scaler.pkl' ,'wb') as file:\n",
    "    pickle.dump( scaler ,file)"
   ]
  },
  {
   "cell_type": "markdown",
   "metadata": {},
   "source": [
    "#### Ann classification"
   ]
  },
  {
   "cell_type": "code",
   "execution_count": 63,
   "metadata": {},
   "outputs": [],
   "source": [
    "#ann\n",
    "#initialise sequential \n",
    "#dense(hidden layer how many nodes) --\n",
    "#activation function --sigmoid/tanh/relu/leaky relu (preffered all hideen relu ,o/p-sigmoid/relu/linear)\n",
    "#optimizer --reponsible for weights \n",
    "#loss function\n",
    "#metrics (classification - accuracy ) (regression - mean square error , mean ansolute error)\n",
    "#store training information (logs) in folder(tensorbord)--help for visualization "
   ]
  },
  {
   "cell_type": "code",
   "execution_count": 64,
   "metadata": {},
   "outputs": [],
   "source": [
    "import tensorflow as tf \n",
    "from tensorflow.keras.models import Sequential\n",
    "from tensorflow.keras.layers import Dense\n",
    "from tensorflow.keras.callbacks import EarlyStopping , TensorBoard\n",
    "import datetime"
   ]
  },
  {
   "cell_type": "code",
   "execution_count": 65,
   "metadata": {},
   "outputs": [],
   "source": [
    "#building our model\n",
    "model = Sequential([\n",
    "    Dense(64, activation = 'relu' , input_shape = (X_train.shape[1] , )),  ##first hidden layer connect with i/p\n",
    "    Dense(64, activation = 'relu'),  #hidden layer\n",
    "    Dense(1 , activation  = 'sigmoid') #o/p layer\n",
    "]   \n",
    ")"
   ]
  },
  {
   "cell_type": "code",
   "execution_count": null,
   "metadata": {},
   "outputs": [],
   "source": [
    "model.summary()\n",
    "#params is combination of forward and bias"
   ]
  },
  {
   "cell_type": "code",
   "execution_count": null,
   "metadata": {},
   "outputs": [],
   "source": [
    "#optimizer  and loss\n",
    "opt = tf.keras.optimizers.Adam(learning_rate=0.01)\n",
    "loss = tf.keras.losses.BinaryCrossentropy()"
   ]
  },
  {
   "cell_type": "code",
   "execution_count": 68,
   "metadata": {},
   "outputs": [],
   "source": [
    "#compile\n",
    "model.compile(optimizer= opt  , loss=loss , metrics = ['accuracy'] )"
   ]
  },
  {
   "cell_type": "code",
   "execution_count": 69,
   "metadata": {},
   "outputs": [],
   "source": [
    "#tensorbord\n",
    "log_dir = \"logs/fit\" + datetime.datetime.now().strftime(\"%Y%m%d-%H%M%S\")\n",
    "tensorflow_callback = TensorBoard(log_dir = log_dir)"
   ]
  },
  {
   "cell_type": "code",
   "execution_count": 72,
   "metadata": {},
   "outputs": [],
   "source": [
    "#set up early stopping \n",
    "early_stopping_callback = EarlyStopping(monitor= 'val_loss' , patience= 10 , restore_best_weights= True)\n"
   ]
  },
  {
   "cell_type": "code",
   "execution_count": null,
   "metadata": {},
   "outputs": [],
   "source": [
    "#Train model \n",
    "history = model.fit(\n",
    "    X_train, y_train , validation_data =(X_test , y_test) , epochs = 100,\n",
    "    callbacks = [tensorflow_callback , early_stopping_callback ]\n",
    "        \n",
    ")"
   ]
  },
  {
   "cell_type": "code",
   "execution_count": null,
   "metadata": {},
   "outputs": [],
   "source": [
    "model.save('model.h5')"
   ]
  },
  {
   "cell_type": "code",
   "execution_count": 3,
   "metadata": {},
   "outputs": [
    {
     "name": "stderr",
     "output_type": "stream",
     "text": [
      "UsageError: Line magic function `%tensorboard` not found.\n"
     ]
    }
   ],
   "source": [
    "\n",
    "%tensorboard --logdir logs/fit20250108-151642/"
   ]
  },
  {
   "cell_type": "code",
   "execution_count": 79,
   "metadata": {},
   "outputs": [],
   "source": [
    "rm -rf ~/.tensorboard-info"
   ]
  },
  {
   "cell_type": "code",
   "execution_count": null,
   "metadata": {},
   "outputs": [],
   "source": [
    "# Input fields\n",
    "credit_score = st.number_input(\n",
    "    'Credit Score', \n",
    "    min_value=0, \n",
    "    max_value=1000, \n",
    "    value=619, \n",
    "    help=\"A numerical score that represents the creditworthiness of the customer. \"\n",
    "         \"Higher scores indicate better creditworthiness.\"\n",
    ")\n",
    "\n",
    "geography = st.selectbox(\n",
    "    'Geography', \n",
    "    onehot_encoder_geo.categories_[0], \n",
    "    help=\"The region or country where the customer resides.\"\n",
    ")\n",
    "\n",
    "gender = st.selectbox(\n",
    "    'Gender', \n",
    "    label_encoder_gender.classes_, \n",
    "    help=\"The gender of the customer. Please select Male or Female.\"\n",
    ")\n",
    "\n",
    "age = st.slider(\n",
    "    'Age', \n",
    "    18, \n",
    "    100, \n",
    "    help=\"The age of the customer in years.\"\n",
    ")\n",
    "\n",
    "tenure = st.slider(\n",
    "    'Tenure', \n",
    "    0, \n",
    "    50, \n",
    "    help=\"The number of years the customer has been with the bank.\"\n",
    ")\n",
    "\n",
    "num_of_products = st.number_input(\n",
    "    'Number of Products Used',\n",
    "    min_value=1,\n",
    "    max_value=4,\n",
    "    value=1,\n",
    "    help=\"The number of products or services the customer is using with the bank. \"\n",
    "         \"For example: a savings account, a credit card, a loan, or an investment account.\"\n",
    ")\n",
    "\n",
    "is_active_member = st.selectbox(\n",
    "    'Is Active Member', \n",
    "    [0, 1], \n",
    "    format_func=lambda x: \"Yes\" if x == 1 else \"No\",\n",
    "    help=\"Indicates whether the customer is currently an active member of the bank (Yes = 1, No = 0).\"\n",
    ")\n",
    "\n",
    "balance = st.number_input(\n",
    "    'Balance', \n",
    "    min_value=0.0, \n",
    "    value=0.0, \n",
    "    help=\"The total balance in the customer's bank account (in dollars).\"\n",
    ")\n",
    "\n",
    "has_cr_card = st.selectbox(\n",
    "    'Has Credit Card', \n",
    "    [0, 1], \n",
    "    format_func=lambda x: \"Yes\" if x == 1 else \"No\",\n",
    "    help=\"Indicates whether the customer owns a credit card (Yes = 1, No = 0).\"\n",
    ")\n",
    "\n",
    "estimated_salary = st.number_input(\n",
    "    'Estimated Salary', \n",
    "    min_value=0.0, \n",
    "    help=\"The annual estimated salary of the customer (in dollars).\"\n",
    ")"
   ]
  },
  {
   "cell_type": "code",
   "execution_count": null,
   "metadata": {},
   "outputs": [],
   "source": []
  },
  {
   "cell_type": "code",
   "execution_count": null,
   "metadata": {},
   "outputs": [],
   "source": []
  },
  {
   "cell_type": "code",
   "execution_count": null,
   "metadata": {},
   "outputs": [],
   "source": []
  },
  {
   "cell_type": "code",
   "execution_count": null,
   "metadata": {},
   "outputs": [],
   "source": []
  },
  {
   "cell_type": "code",
   "execution_count": null,
   "metadata": {},
   "outputs": [],
   "source": []
  }
 ],
 "metadata": {
  "kernelspec": {
   "display_name": "venv",
   "language": "python",
   "name": "python3"
  },
  "language_info": {
   "codemirror_mode": {
    "name": "ipython",
    "version": 3
   },
   "file_extension": ".py",
   "mimetype": "text/x-python",
   "name": "python",
   "nbconvert_exporter": "python",
   "pygments_lexer": "ipython3",
   "version": "3.11.11"
  }
 },
 "nbformat": 4,
 "nbformat_minor": 2
}
